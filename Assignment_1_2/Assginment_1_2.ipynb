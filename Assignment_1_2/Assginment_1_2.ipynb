{
 "cells": [
  {
   "cell_type": "markdown",
   "metadata": {},
   "source": [
    "Welcome to your assignment on Pandas and Matplotlib!\n",
    "In case you face any difficulty or you have any doubts related to this assignment, or Pandas or Matplotlib in general, do not hesitate to ask on the Slack channel."
   ]
  },
  {
   "cell_type": "markdown",
   "metadata": {},
   "source": [
    "# Importing Libraries\n",
    "\n",
    "We shall start by importing the Python libraries you will need to run the code."
   ]
  },
  {
   "cell_type": "code",
   "execution_count": null,
   "metadata": {},
   "outputs": [],
   "source": [
    "import pandas as pd\n",
    "from matplotlib import pyplot as plt\n",
    "import matplotlib\n",
    "\n",
    "%matplotlib inline"
   ]
  },
  {
   "cell_type": "markdown",
   "metadata": {},
   "source": [
    "# Importing the Data\n",
    "\n",
    "Import the data stored in \"day.csv\" using Pandas and store it in a DataFrame named df.\n",
    "Also, since the data contains many columns that you may find unnecessary, you may drop them off."
   ]
  },
  {
   "cell_type": "code",
   "execution_count": null,
   "metadata": {},
   "outputs": [],
   "source": [
    "#Fill in the incomplete code here\n",
    "df = pd.read_csv(\"day.csv\")\n",
    "\n",
    "drop_list = ['instant', 'season', 'yr']\n",
    "\n",
    "df.drop(drop_list,axis=1,inplace=True)\n",
    "\n",
    "#Write code below to drop the columns given in drop_list. You can add or remove columns as per your convinience.\n"
   ]
  },
  {
   "cell_type": "markdown",
   "metadata": {},
   "source": [
    "# Plotting the data\n",
    "\n",
    "With the data stored in our Pandas dataframe, we are now ready to plot the data to gain some insights on the data.\n",
    "We will define functions for each plot to make our code re-usable."
   ]
  },
  {
   "cell_type": "markdown",
   "metadata": {},
   "source": [
    "But before plotting, you must set some parameters common to all the plots. This is done in order to make the visibility and readability of the plots better. This can be done by changing the default rc settings defined in the matplotlibrc configuration files. One example is given."
   ]
  },
  {
   "cell_type": "code",
   "execution_count": null,
   "metadata": {},
   "outputs": [],
   "source": [
    "#Set plot size to 14\" x 7\" (Solved Exapmle)\n",
    "matplotlib.rc('figure', figsize = (14, 7))\n",
    "\n",
    "#Set the font size to 15\n",
    "matplotlib.rc('font' , size = 15.0 )\n",
    "\n",
    "#Do not display the top and right frame lines\n",
    "matplotlib.rcParams['axes.spines.right']=False\n",
    "matplotlib.rcParams['axes.spines.top']=False\n",
    "\n",
    "\n",
    "\n",
    "#You can try experimenting with the background color, grid lines and font style\n",
    "matplotlib.rc('font' , style = 'italic')\n",
    "matplotlib.rc('grid' , linewidth = 0.6 , linestyle = '--')\n",
    "matplotlib.rcParams['axes.facecolor'] = '#00FFFF'"
   ]
  },
  {
   "cell_type": "markdown",
   "metadata": {},
   "source": [
    "## Scatter Plot\n",
    "\n",
    "This is the most used plot for gaing insight into data while dealing with Machine Learning problems. For your convenience, the code for scatter plot is given as an exapmle."
   ]
  },
  {
   "cell_type": "code",
   "execution_count": null,
   "metadata": {},
   "outputs": [],
   "source": [
    "def scatter_plot(x_data, y_data, x_label, y_label, title):\n",
    "    \n",
    "    fig, ax = plt.subplots()\n",
    "    ax.scatter(x_data, y_data, s = 30, color = '#539caf', alpha = 0.75)\n",
    "    \n",
    "    ax.set_title(title)\n",
    "    ax.set_xlabel(x_label)\n",
    "    ax.set_ylabel(y_label)\n",
    "    \n",
    "scatter_plot(x_data = df['temp']\n",
    "            , y_data = df['cnt']\n",
    "            , x_label = 'Normalized temperature (C)'\n",
    "            , y_label = 'Check outs'\n",
    "            , title = 'Number of Check Outs vs Temperature')"
   ]
  },
  {
   "cell_type": "markdown",
   "metadata": {},
   "source": [
    "# Histogram"
   ]
  },
  {
   "cell_type": "code",
   "execution_count": null,
   "metadata": {},
   "outputs": [],
   "source": [
    "#Fill the function given below\n",
    "def histogram(data, x_label, y_label, title):\n",
    "    \n",
    "    fig, ax = plt.subplots()\n",
    "    ax.hist(data,rwidth=0.8)\n",
    "    ax.set_title(title)\n",
    "    ax.set_xlabel(x_label)\n",
    "    ax.set_ylabel(y_label)\n",
    "\n",
    "#Calling the function \"histogram\"\n",
    "histogram(data = df['registered']\n",
    "           , x_label = 'Check outs'\n",
    "           , y_label = 'Frequency'\n",
    "           , title = 'Distribution of Registered Check Outs')"
   ]
  },
  {
   "cell_type": "markdown",
   "metadata": {},
   "source": [
    "# Line Plot"
   ]
  },
  {
   "cell_type": "code",
   "execution_count": null,
   "metadata": {},
   "outputs": [],
   "source": [
    "#Fill the function given below\n",
    "def lineplot(x_data, y_data, x_label, y_label, title):\n",
    "\n",
    "    fig, ax = plt.subplots()\n",
    "    ax.plot(x_data,y_data,'-r')\n",
    "    ax.set_title(title)\n",
    "    ax.set_xlabel(x_label)\n",
    "    ax.set_ylabel(y_label)\n",
    "    plt.legend()\n",
    "    \n",
    "    \n",
    "#Calling the function to create plot\n",
    "lineplot(x_data = df['dteday']\n",
    "         , y_data = df['cnt']\n",
    "         , x_label = 'Date'\n",
    "         , y_label = 'Total Checkouts'\n",
    "         , title = 'Total Checkouts for Each Day')"
   ]
  },
  {
   "cell_type": "markdown",
   "metadata": {},
   "source": [
    "# Comparing Two Line Plots\n",
    "\n",
    "This is useful for comparing two variables over a third variable. It must be noted that these variables may have different scales (they do in the example given below)."
   ]
  },
  {
   "cell_type": "code",
   "execution_count": null,
   "metadata": {},
   "outputs": [],
   "source": [
    "#Fill the function given below\n",
    "def lineplot2y(x_data, x_label, y1_data, y1_label, y2_data, y2_label, title):\n",
    "\n",
    "    fig, ax = plt.subplots()\n",
    "    ax.plot(x_data,y1_data,'-r')\n",
    "    ax.set_title(title)\n",
    "    ax.set_xlabel(x_label)\n",
    "    ax.set_ylabel(y1_label)\n",
    "    ax2=ax.twinx()\n",
    "    ax2.plot(x_data,y2_data,'-b')\n",
    "    ax2.set_ylabel(y2_label)\n",
    "    plt.legend()\n",
    "\n",
    "#Calling the function to create plot\n",
    "lineplot2y(x_data = df['dteday']\n",
    "           , x_label = 'Date'\n",
    "           , y1_data = df['casual']\n",
    "           , y1_label = 'Casual Checkouts'\n",
    "           , y2_data = df['registered']\n",
    "           , y2_label = 'Registered Checkouts'\n",
    "           , title = 'No. of Registered vs Casual Checkouts for Each Day')\n"
   ]
  },
  {
   "cell_type": "markdown",
   "metadata": {},
   "source": [
    "# And You're Done!\n",
    "\n",
    "Congratulations on completing the second part of your first assignment. There are lots of plots you can explore and try on the numerous fields given in \"day.csv\". You can also do numpy operations on the data to derive more meaningful insights if you wish to."
   ]
  },
  {
   "cell_type": "markdown",
   "metadata": {},
   "source": [
    "You need to submit this Python notebook for this part of the assignment."
   ]
  }
 ],
 "metadata": {
  "kernelspec": {
   "display_name": "Python 3",
   "language": "python",
   "name": "python3"
  },
  "language_info": {
   "codemirror_mode": {
    "name": "ipython",
    "version": 3
   },
   "file_extension": ".py",
   "mimetype": "text/x-python",
   "name": "python",
   "nbconvert_exporter": "python",
   "pygments_lexer": "ipython3",
   "version": "3.6.4"
  }
 },
 "nbformat": 4,
 "nbformat_minor": 2
}
